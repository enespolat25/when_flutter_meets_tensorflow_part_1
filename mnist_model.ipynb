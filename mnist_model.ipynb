{
  "nbformat": 4,
  "nbformat_minor": 0,
  "metadata": {
    "colab": {
      "name": "mnist_model.ipynb",
      "version": "0.3.2",
      "provenance": [],
      "include_colab_link": true
    },
    "kernelspec": {
      "name": "python3",
      "display_name": "Python 3"
    },
    "accelerator": "GPU"
  },
  "cells": [
    {
      "cell_type": "markdown",
      "metadata": {
        "id": "view-in-github",
        "colab_type": "text"
      },
      "source": [
        "<a href=\"https://colab.research.google.com/github/sergiofraile/when_flutter_meets_tensorflow_part_1/blob/master/mnist_model.ipynb\" target=\"_parent\"><img src=\"https://colab.research.google.com/assets/colab-badge.svg\" alt=\"Open In Colab\"/></a>"
      ]
    },
    {
      "cell_type": "code",
      "metadata": {
        "id": "1TaADm3zWzFw",
        "colab_type": "code",
        "colab": {}
      },
      "source": [
        "import tensorflow as tf"
      ],
      "execution_count": 0,
      "outputs": []
    },
    {
      "cell_type": "code",
      "metadata": {
        "id": "Ja0FCI8iXKdc",
        "colab_type": "code",
        "colab": {
          "base_uri": "https://localhost:8080/",
          "height": 50
        },
        "outputId": "5c45b1e2-276d-4f1d-fd6a-1d74adf69ff9"
      },
      "source": [
        "# Load the MNIST dataset\n",
        "mnist = tf.keras.datasets.mnist\n",
        "(x_train, y_train),(x_test, y_test) = mnist.load_data()\n",
        "\n",
        "# Normalize the training values\n",
        "x_train, x_test = x_train / 255.0, x_test / 255.0"
      ],
      "execution_count": 2,
      "outputs": [
        {
          "output_type": "stream",
          "text": [
            "Downloading data from https://storage.googleapis.com/tensorflow/tf-keras-datasets/mnist.npz\n",
            "11493376/11490434 [==============================] - 0s 0us/step\n"
          ],
          "name": "stdout"
        }
      ]
    },
    {
      "cell_type": "code",
      "metadata": {
        "id": "x6xKRYqaXNYS",
        "colab_type": "code",
        "colab": {}
      },
      "source": [
        "# A callback to stop our tranning\n",
        "# when reaching enough accuracy\n",
        "class myCallback(tf.keras.callbacks.Callback):\n",
        "  def on_epoch_end(self, epoch, logs={}):\n",
        "    if(logs.get('acc')>0.99):\n",
        "      print(\"\\nReached 99.0% accuracy so cancelling training!\")\n",
        "      self.model.stop_training = True"
      ],
      "execution_count": 0,
      "outputs": []
    },
    {
      "cell_type": "code",
      "metadata": {
        "id": "juYR710OXPet",
        "colab_type": "code",
        "colab": {
          "base_uri": "https://localhost:8080/",
          "height": 104
        },
        "outputId": "a96bf7c6-1626-4cc2-fc18-605d74827ad7"
      },
      "source": [
        "# Create a basic model\n",
        "model = tf.keras.models.Sequential([\n",
        "  tf.keras.layers.Flatten(input_shape=(28, 28)),\n",
        "  tf.keras.layers.Dense(128, activation='relu'),\n",
        "  tf.keras.layers.Dropout(0.2),\n",
        "  tf.keras.layers.Dense(10, activation='softmax')\n",
        "])"
      ],
      "execution_count": 4,
      "outputs": [
        {
          "output_type": "stream",
          "text": [
            "WARNING: Logging before flag parsing goes to stderr.\n",
            "W0820 14:14:16.301352 139794456360832 deprecation.py:506] From /usr/local/lib/python3.6/dist-packages/tensorflow/python/ops/init_ops.py:1251: calling VarianceScaling.__init__ (from tensorflow.python.ops.init_ops) with dtype is deprecated and will be removed in a future version.\n",
            "Instructions for updating:\n",
            "Call initializer instance with the dtype argument instead of passing it to the constructor\n"
          ],
          "name": "stderr"
        }
      ]
    },
    {
      "cell_type": "code",
      "metadata": {
        "id": "UeaHKm41XRPm",
        "colab_type": "code",
        "colab": {}
      },
      "source": [
        "# Compile the model\n",
        "model.compile(optimizer='adam',\n",
        "              loss='sparse_categorical_crossentropy',\n",
        "              metrics=['accuracy'])"
      ],
      "execution_count": 0,
      "outputs": []
    },
    {
      "cell_type": "code",
      "metadata": {
        "id": "OC9xGBODXTJu",
        "colab_type": "code",
        "colab": {
          "base_uri": "https://localhost:8080/",
          "height": 672
        },
        "outputId": "22c8caf1-1d5d-4621-b42e-f043f4ff8be6"
      },
      "source": [
        "# Train the model\n",
        "model.fit(x_train, \n",
        "          y_train, \n",
        "          epochs=25,\n",
        "          callbacks=[myCallback()])"
      ],
      "execution_count": 6,
      "outputs": [
        {
          "output_type": "stream",
          "text": [
            "Epoch 1/25\n",
            "60000/60000 [==============================] - 7s 111us/sample - loss: 0.2954 - acc: 0.9138\n",
            "Epoch 2/25\n",
            "60000/60000 [==============================] - 6s 98us/sample - loss: 0.1409 - acc: 0.9581\n",
            "Epoch 3/25\n",
            "60000/60000 [==============================] - 6s 98us/sample - loss: 0.1051 - acc: 0.9680\n",
            "Epoch 4/25\n",
            "60000/60000 [==============================] - 6s 98us/sample - loss: 0.0877 - acc: 0.9732\n",
            "Epoch 5/25\n",
            "60000/60000 [==============================] - 6s 99us/sample - loss: 0.0733 - acc: 0.9765\n",
            "Epoch 6/25\n",
            "60000/60000 [==============================] - 6s 98us/sample - loss: 0.0654 - acc: 0.9796\n",
            "Epoch 7/25\n",
            "60000/60000 [==============================] - 6s 99us/sample - loss: 0.0583 - acc: 0.9811\n",
            "Epoch 8/25\n",
            "60000/60000 [==============================] - 6s 98us/sample - loss: 0.0542 - acc: 0.9827\n",
            "Epoch 9/25\n",
            "60000/60000 [==============================] - 6s 98us/sample - loss: 0.0490 - acc: 0.9839\n",
            "Epoch 10/25\n",
            "60000/60000 [==============================] - 6s 99us/sample - loss: 0.0437 - acc: 0.9854\n",
            "Epoch 11/25\n",
            "60000/60000 [==============================] - 6s 98us/sample - loss: 0.0422 - acc: 0.9859\n",
            "Epoch 12/25\n",
            "60000/60000 [==============================] - 6s 98us/sample - loss: 0.0378 - acc: 0.9871\n",
            "Epoch 13/25\n",
            "60000/60000 [==============================] - 6s 97us/sample - loss: 0.0347 - acc: 0.9885\n",
            "Epoch 14/25\n",
            "60000/60000 [==============================] - 6s 98us/sample - loss: 0.0324 - acc: 0.9890\n",
            "Epoch 15/25\n",
            "60000/60000 [==============================] - 6s 97us/sample - loss: 0.0328 - acc: 0.9882\n",
            "Epoch 16/25\n",
            "60000/60000 [==============================] - 6s 98us/sample - loss: 0.0297 - acc: 0.9897\n",
            "Epoch 17/25\n",
            "60000/60000 [==============================] - 6s 98us/sample - loss: 0.0285 - acc: 0.9898\n",
            "Epoch 18/25\n",
            "59680/60000 [============================>.] - ETA: 0s - loss: 0.0277 - acc: 0.9905\n",
            "Reached 99.0% accuracy so cancelling training!\n",
            "60000/60000 [==============================] - 6s 97us/sample - loss: 0.0277 - acc: 0.9905\n"
          ],
          "name": "stdout"
        },
        {
          "output_type": "execute_result",
          "data": {
            "text/plain": [
              "<tensorflow.python.keras.callbacks.History at 0x7f24238c5ef0>"
            ]
          },
          "metadata": {
            "tags": []
          },
          "execution_count": 6
        }
      ]
    },
    {
      "cell_type": "code",
      "metadata": {
        "id": "17p3k_ryXUZO",
        "colab_type": "code",
        "colab": {
          "base_uri": "https://localhost:8080/",
          "height": 50
        },
        "outputId": "46edb01b-fa25-4005-b0a9-ec520dbc895c"
      },
      "source": [
        "# Evaluate the model\n",
        "model.evaluate(x_test, y_test)"
      ],
      "execution_count": 7,
      "outputs": [
        {
          "output_type": "stream",
          "text": [
            "10000/10000 [==============================] - 1s 67us/sample - loss: 0.0821 - acc: 0.9800\n"
          ],
          "name": "stdout"
        },
        {
          "output_type": "execute_result",
          "data": {
            "text/plain": [
              "[0.08206978416955972, 0.98]"
            ]
          },
          "metadata": {
            "tags": []
          },
          "execution_count": 7
        }
      ]
    },
    {
      "cell_type": "code",
      "metadata": {
        "id": "iWHUGcLFXWB-",
        "colab_type": "code",
        "colab": {}
      },
      "source": [
        "# Save the model\n",
        "model.save('mnist_model.h5')"
      ],
      "execution_count": 0,
      "outputs": []
    },
    {
      "cell_type": "code",
      "metadata": {
        "id": "LBKF1BrjXX6A",
        "colab_type": "code",
        "colab": {
          "base_uri": "https://localhost:8080/",
          "height": 255
        },
        "outputId": "94eb16ce-77d1-41a3-b187-def9b828318e"
      },
      "source": [
        "# Convert the model.\n",
        "converter = tf.lite.TFLiteConverter.from_keras_model_file('mnist_model.h5')\n",
        "tflite_model = converter.convert()\n",
        "open(\"converted_mnist_model.tflite\", \"wb\").write(tflite_model)"
      ],
      "execution_count": 9,
      "outputs": [
        {
          "output_type": "stream",
          "text": [
            "W0820 14:16:07.405250 139794456360832 deprecation.py:506] From /usr/local/lib/python3.6/dist-packages/tensorflow/python/ops/init_ops.py:97: calling GlorotUniform.__init__ (from tensorflow.python.ops.init_ops) with dtype is deprecated and will be removed in a future version.\n",
            "Instructions for updating:\n",
            "Call initializer instance with the dtype argument instead of passing it to the constructor\n",
            "W0820 14:16:07.406886 139794456360832 deprecation.py:506] From /usr/local/lib/python3.6/dist-packages/tensorflow/python/ops/init_ops.py:97: calling Zeros.__init__ (from tensorflow.python.ops.init_ops) with dtype is deprecated and will be removed in a future version.\n",
            "Instructions for updating:\n",
            "Call initializer instance with the dtype argument instead of passing it to the constructor\n",
            "W0820 14:16:07.987820 139794456360832 deprecation.py:323] From /usr/local/lib/python3.6/dist-packages/tensorflow/lite/python/util.py:238: convert_variables_to_constants (from tensorflow.python.framework.graph_util_impl) is deprecated and will be removed in a future version.\n",
            "Instructions for updating:\n",
            "Use `tf.compat.v1.graph_util.convert_variables_to_constants`\n",
            "W0820 14:16:07.990452 139794456360832 deprecation.py:323] From /usr/local/lib/python3.6/dist-packages/tensorflow/python/framework/graph_util_impl.py:270: extract_sub_graph (from tensorflow.python.framework.graph_util_impl) is deprecated and will be removed in a future version.\n",
            "Instructions for updating:\n",
            "Use `tf.compat.v1.graph_util.extract_sub_graph`\n"
          ],
          "name": "stderr"
        },
        {
          "output_type": "execute_result",
          "data": {
            "text/plain": [
              "408152"
            ]
          },
          "metadata": {
            "tags": []
          },
          "execution_count": 9
        }
      ]
    },
    {
      "cell_type": "code",
      "metadata": {
        "id": "HPUCg0QQXssN",
        "colab_type": "code",
        "colab": {}
      },
      "source": [
        "# Download the tflite model\n",
        "from google.colab import files\n",
        "\n",
        "files.download('converted_mnist_model.tflite')"
      ],
      "execution_count": 0,
      "outputs": []
    },
    {
      "cell_type": "code",
      "metadata": {
        "id": "cVKU_sqsXtjc",
        "colab_type": "code",
        "colab": {}
      },
      "source": [
        "# Uncomment and use this block if you want test the model\n",
        "# prediction with your own images\n",
        "\n",
        "# import numpy as np\n",
        "# from google.colab import files\n",
        "# from keras.preprocessing import image\n",
        "# from PIL import Image\n",
        "\n",
        "\n",
        "# uploaded = files.upload()\n",
        "\n",
        "# for fn in uploaded.keys():\n",
        "#   # predicting images\n",
        "#   path = fn\n",
        "#   img = Image.open(path).convert(\"L\")\n",
        "#   x = image.img_to_array(img)\n",
        "#   x = np.expand_dims(x, axis=0)\n",
        "\n",
        "#   images = np.vstack([x])\n",
        "#   classes = model.predict(images)\n",
        "#   print(fn)\n",
        "#   print(classes)"
      ],
      "execution_count": 0,
      "outputs": []
    },
    {
      "cell_type": "code",
      "metadata": {
        "id": "V-2o2krQX2kN",
        "colab_type": "code",
        "colab": {}
      },
      "source": [
        ""
      ],
      "execution_count": 0,
      "outputs": []
    }
  ]
}